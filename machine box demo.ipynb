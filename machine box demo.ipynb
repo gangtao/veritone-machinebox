{
 "cells": [
  {
   "cell_type": "code",
   "execution_count": null,
   "metadata": {},
   "outputs": [],
   "source": [
    "import requests\n",
    "import json\n",
    "headers = {'Content-Type': 'application/json'}\n",
    "\n",
    "root_url = 'http://localhost:8080/classificationbox'\n",
    "\n",
    "def get(url, headers, payload=None):\n",
    "    resp = requests.get(url, data=payload, headers=headers)\n",
    "    print(resp)\n",
    "    respObj = json.loads(resp.text)\n",
    "    return respObj, resp.status_code\n",
    "\n",
    "def post(url, headers, payload=None):\n",
    "    resp = requests.post(url, data=payload, headers=headers)\n",
    "    print(resp.status_code)\n",
    "    print(resp.text)\n",
    "    respObj = json.loads(resp.text)\n",
    "    return respObj, resp.status_code\n",
    "\n",
    "def delete(url, headers):\n",
    "    resp = requests.delete(url, headers=headers)\n",
    "    print(resp.status_code)"
   ]
  },
  {
   "cell_type": "markdown",
   "metadata": {},
   "source": [
    "### Create a model"
   ]
  },
  {
   "cell_type": "code",
   "execution_count": null,
   "metadata": {},
   "outputs": [],
   "source": [
    "model_url = f'{root_url}/models'\n",
    "model_payload = {\n",
    "\t\"id\": \"iris\",\n",
    "\t\"name\": \"iris\",\n",
    "\t\"options\": {},\n",
    "\t\"classes\": [\n",
    "\t\t\"Iris Setosa\",\n",
    "\t\t\"Iris Versicolor\",\n",
    "\t\t\"Iris Virginica\"\n",
    "\t]\n",
    "}\n",
    "\n",
    "resp, code = post(model_url, headers, payload=json.dumps(model_payload))"
   ]
  },
  {
   "cell_type": "markdown",
   "metadata": {},
   "source": [
    "### delete/list model"
   ]
  },
  {
   "cell_type": "code",
   "execution_count": null,
   "metadata": {},
   "outputs": [],
   "source": [
    "delete(f'{model_url}/iris',headers)"
   ]
  },
  {
   "cell_type": "code",
   "execution_count": null,
   "metadata": {},
   "outputs": [],
   "source": [
    "get(f'{model_url}',headers)"
   ]
  },
  {
   "cell_type": "markdown",
   "metadata": {},
   "source": [
    "### teach"
   ]
  },
  {
   "cell_type": "code",
   "execution_count": null,
   "metadata": {},
   "outputs": [],
   "source": [
    "import csv\n",
    "examples = []\n",
    "train_payload = {'examples':examples}\n",
    "with open('iris.csv') as csvfile:\n",
    "    reader = csv.DictReader(csvfile)\n",
    "    for row in reader:\n",
    "        example = {}\n",
    "        example['class'] = row['species']\n",
    "        example['inputs'] = []\n",
    "        for key in row.keys():\n",
    "            if key != 'species':\n",
    "                item = {}\n",
    "                item['key'] = key\n",
    "                item['type'] = 'number'\n",
    "                item['value'] = str(row[key])\n",
    "                example['inputs'].append(item)\n",
    "        examples.append(example)        \n",
    "print(json.dumps(train_payload, indent=2))"
   ]
  },
  {
   "cell_type": "code",
   "execution_count": null,
   "metadata": {},
   "outputs": [],
   "source": [
    "teach_url = f'{model_url}/iris/teach-multi'\n",
    "resp, code = post(teach_url, headers, payload=json.dumps(train_payload))"
   ]
  },
  {
   "cell_type": "markdown",
   "metadata": {},
   "source": [
    "### Predict"
   ]
  },
  {
   "cell_type": "code",
   "execution_count": null,
   "metadata": {},
   "outputs": [],
   "source": [
    "predict_url = f'{model_url}/iris/predict'\n",
    "predict_payload = {\"limit\": 10}\n",
    "predict_payload['inputs'] = examples[40]['inputs']\n",
    "print(examples[40])\n",
    "\n",
    "resp, code = post(predict_url, headers, payload=json.dumps(predict_payload))"
   ]
  },
  {
   "cell_type": "markdown",
   "metadata": {},
   "source": [
    "### Model Statistics"
   ]
  },
  {
   "cell_type": "code",
   "execution_count": null,
   "metadata": {},
   "outputs": [],
   "source": [
    "stats_url = f'{model_url}/iris/stats'\n",
    "resp, code = get(stats_url, headers)\n",
    "print(json.dumps(resp,indent=2))"
   ]
  }
 ],
 "metadata": {
  "kernelspec": {
   "display_name": "Python 3",
   "language": "python",
   "name": "python3"
  },
  "language_info": {
   "codemirror_mode": {
    "name": "ipython",
    "version": 3
   },
   "file_extension": ".py",
   "mimetype": "text/x-python",
   "name": "python",
   "nbconvert_exporter": "python",
   "pygments_lexer": "ipython3",
   "version": "3.6.8"
  }
 },
 "nbformat": 4,
 "nbformat_minor": 2
}
